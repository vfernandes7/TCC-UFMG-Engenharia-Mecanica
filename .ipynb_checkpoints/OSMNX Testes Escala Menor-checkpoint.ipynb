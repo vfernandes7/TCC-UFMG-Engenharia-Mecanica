{
 "cells": [
  {
   "cell_type": "code",
   "execution_count": 1,
   "id": "c872f059",
   "metadata": {},
   "outputs": [],
   "source": [
    "import osmnx as ox\n",
    "import igraph as ig\n",
    "import networkx as nx\n",
    "import matplotlib.pyplot as plt\n",
    "import pandas as pd\n",
    "import numpy as np\n",
    "import matplotlib as mpl\n",
    "import random as rd\n",
    "from IPython.display import clear_output\n",
    "from shapely.wkt import loads as load_wkt\n",
    "import matplotlib.cm as cm\n",
    "ox.config(log_console=True, use_cache=True)"
   ]
  },
  {
   "cell_type": "code",
   "execution_count": null,
   "id": "3f37a9ec",
   "metadata": {},
   "outputs": [],
   "source": [
    "G = ox.graph_from_bbox(-19.9209,-19.9312,-43.9505,-43.9415,network_type='walk')\n",
    "\n",
    "fig, ax = ox.plot_graph(G)"
   ]
  },
  {
   "cell_type": "code",
   "execution_count": null,
   "id": "55e087c2",
   "metadata": {},
   "outputs": [],
   "source": [
    "print('nós originais\\n', list(G.nodes()))\n",
    "print('\\narestas originais\\n', list(G.edges()))"
   ]
  },
  {
   "cell_type": "code",
   "execution_count": null,
   "id": "8e7d40ec",
   "metadata": {},
   "outputs": [],
   "source": [
    "G_nx = nx.relabel.convert_node_labels_to_integers(G)\n",
    "print('nós convertidos\\n', list(G_nx.nodes()))\n",
    "print('\\narestas convertidas\\n', list(G_nx.edges()))"
   ]
  },
  {
   "cell_type": "code",
   "execution_count": null,
   "id": "93c8dd92",
   "metadata": {},
   "outputs": [],
   "source": [
    "location_point = (-19.92798671024853, -43.94740898668482)\n",
    "origin_node = ox.get_nearest_node(G, location_point)\n",
    "origin_node"
   ]
  },
  {
   "cell_type": "code",
   "execution_count": null,
   "id": "0231e8af",
   "metadata": {},
   "outputs": [],
   "source": [
    "shortest_path = nx.shortest_path(G,origin_node,2828035001)\n",
    "ox.plot.plot_graph_route(G,shortest_path)"
   ]
  },
  {
   "cell_type": "code",
   "execution_count": null,
   "id": "88d9ebb7",
   "metadata": {},
   "outputs": [],
   "source": [
    "rota_teste = [28801018, 8269807083]\n",
    "ox.plot.plot_graph_route(G,rota_teste)"
   ]
  },
  {
   "cell_type": "code",
   "execution_count": null,
   "id": "8faaec8f",
   "metadata": {},
   "outputs": [],
   "source": [
    "weight = 'length'\n",
    "print(list(nx.get_node_attributes(G, 'osmid').values()))\n",
    "print(list(nx.get_edge_attributes(G, weight).values()))"
   ]
  },
  {
   "cell_type": "code",
   "execution_count": null,
   "id": "4d419b43",
   "metadata": {},
   "outputs": [],
   "source": [
    "print('informações dos nós: ',G.nodes[28801018])\n",
    "print('informações das arestas: ',G[28801018][8933734968])"
   ]
  },
  {
   "cell_type": "code",
   "execution_count": null,
   "id": "76e337dc",
   "metadata": {},
   "outputs": [],
   "source": [
    "fig, ax = ox.plot_graph(G)"
   ]
  },
  {
   "cell_type": "code",
   "execution_count": null,
   "id": "1d0b65f7",
   "metadata": {},
   "outputs": [],
   "source": [
    "nc = [0]*31"
   ]
  },
  {
   "cell_type": "code",
   "execution_count": null,
   "id": "0c67b853",
   "metadata": {},
   "outputs": [],
   "source": [
    "for i in range(len(nc)):\n",
    "    nc[i] = 'w'"
   ]
  },
  {
   "cell_type": "code",
   "execution_count": null,
   "id": "51fab3bb",
   "metadata": {},
   "outputs": [],
   "source": [
    "k=0\n",
    "for node in G.nodes():\n",
    "\n",
    "    if node == origin_node:\n",
    "\n",
    "        nc[k] = str('red')\n",
    "        k += 1\n",
    "    else:\n",
    "        nc[k] = str('w')\n",
    "        k += 1"
   ]
  },
  {
   "cell_type": "code",
   "execution_count": null,
   "id": "abae26e5",
   "metadata": {},
   "outputs": [],
   "source": [
    "G = ox.project_graph(G)\n",
    "fig, ax = ox.plot_graph(G, node_color=nc)"
   ]
  }
 ],
 "metadata": {
  "kernelspec": {
   "display_name": "Python 3 (ipykernel)",
   "language": "python",
   "name": "python3"
  },
  "language_info": {
   "codemirror_mode": {
    "name": "ipython",
    "version": 3
   },
   "file_extension": ".py",
   "mimetype": "text/x-python",
   "name": "python",
   "nbconvert_exporter": "python",
   "pygments_lexer": "ipython3",
   "version": "3.9.7"
  }
 },
 "nbformat": 4,
 "nbformat_minor": 5
}
